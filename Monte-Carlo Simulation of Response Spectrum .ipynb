{
 "cells": [
  {
   "cell_type": "markdown",
   "metadata": {},
   "source": [
    "# Functions for monte-carlo simulation "
   ]
  },
  {
   "cell_type": "code",
   "execution_count": 1,
   "metadata": {},
   "outputs": [],
   "source": [
    "import numpy as np\n",
    "from numba import jit\n",
    "from scipy import stats\n",
    "import matplotlib.pyplot as plt \n",
    "\n",
    "\n",
    "@jit(nopython=True)\n",
    "def rho(T1, T2):\n",
    "        Tmin = np.min(np.array([T1, T2]))\n",
    "        Tmax = np.max(np.array([T1, T2]))\n",
    "        c1 = 1 - np.cos(np.pi/2-0.366 *\n",
    "                np.log(Tmax/(np.max(np.array([Tmin, 0.109])))))\n",
    "        if Tmax < 0.2:\n",
    "            c2 = 1-0.105*(1-1/(1+np.exp(100*Tmax-5))) *\\\n",
    "                ((Tmax-Tmin)/(Tmax-0.0099))\n",
    "        else:\n",
    "            c2 = 0\n",
    "        if Tmax < 0.109:\n",
    "            c3 = c2\n",
    "        else:\n",
    "            c3 = c1\n",
    "        c4 = c1 + 0.5*(np.sqrt(c3)-c3)*(1+np.cos(np.pi*Tmin/0.109))\n",
    "\n",
    "        if Tmax < 0.109:\n",
    "            return c2\n",
    "        elif Tmin > 0.109:\n",
    "            return c1\n",
    "        elif Tmax < 0.2:\n",
    "            return np.min(np.array([c2, c4]))\n",
    "        else:\n",
    "            return c4\n",
    "\n",
    "\n",
    "@jit(nopython=True)\n",
    "def covariance(T, stdlnsaT):\n",
    "    cov = np.zeros((len(T), len(T)))\n",
    "    for i in range(len(T)):\n",
    "        for j in range(len(T)):\n",
    "            if i == j:\n",
    "                cov[i, j] = stdlnsaT[i]**2\n",
    "            else:\n",
    "                cov[i, j] = rho(T[i], T[j]) * stdlnsaT[i] * stdlnsaT[j]\n",
    "    return cov\n",
    "\n",
    "def simulation(T, medlnsaT, stdlnsaT):\n",
    "    cov_mat = covariance(T, stdlnsaT)\n",
    "    z = np.linalg.cholesky(cov_mat)\n",
    "    normls = np.random.normal(size=1000)\n",
    "    normal = [values for values in normls if values>-1 and values < 1]\n",
    "    normal_final = np.random.choice(normal,len(T),False)\n",
    "    \n",
    "    #sim = medlnsaT + np.matmul(z, np.random.normal(size=len(medlnsaT)))\n",
    "    sim = medlnsaT + np.matmul(z,normal_final)\n",
    "    return sim\n",
    "\n",
    "def suite_response_spectra(T, medlnsaT, stdlnsaT, n):\n",
    "    suite = np.zeros((n,len(T)))\n",
    "    for i in range(n):\n",
    "        suite[i,:] = simulation(T, medlnsaT, stdlnsaT)\n",
    "        while sum(suite[i,:] < 0) >= 1:\n",
    "            suite[i,:] = simulation(T, medlnsaT, stdlnsaT)\n",
    "    return suite\n",
    "\n",
    "def selection_criteria(T, target_med, target_std, data):\n",
    "    weights = np.array([1, 2])\n",
    "    devMeanSim = np.mean(np.log(data), axis=0)-np.log(target_med)\n",
    "    devSkewSim = stats.skew(np.log(data), axis=0)\n",
    "    devSigSim = np.std(np.log(data), axis=0) - \\\n",
    "                    np.sqrt(np.diagonal(covariance(T, target_std)))\n",
    "    devTotalSim = weights[0]*np.sum(devMeanSim**2) + \\\n",
    "                    weights[1]*np.sum(devSigSim**2)+0.1 * \\\n",
    "                    (weights[0]+weights[1])*np.sum(devSkewSim**2)\n",
    "    return np.min(np.abs(devTotalSim))\n",
    "\n",
    "\n",
    "def best_suite(T, medlnsaT, stdlnsaT, n=20, ntrials=5):\n",
    "        first_suite = suite_response_spectra(T, medlnsaT, stdlnsaT, n)\n",
    "        criteria = selection_criteria(T, medlnsaT, stdlnsaT, first_suite)\n",
    "        bestsuite = first_suite.copy()\n",
    "        for suite in range(ntrials):\n",
    "            next_suite = suite_response_spectra(T,medlnsaT, stdlnsaT, n)\n",
    "            next_criteria = selection_criteria(T, medlnsaT, stdlnsaT, next_suite)            \n",
    "            if next_criteria < criteria:\n",
    "                criteria = next_criteria\n",
    "                bestsuite = next_suite.copy()\n",
    "        return bestsuite\n",
    "    \n",
    "\n",
    "@jit(nopython=True)    \n",
    "def SSE(target,sample):\n",
    "    SSE_sum = 0\n",
    "    for i in range(len(target)):\n",
    "        SSE_sum += (np.log(target[i])-np.log(sample[i]))**2\n",
    "    return SSE_sum\n",
    "\n",
    "@jit(nopython=True)\n",
    "def SSEs(target_mean, target_std, sample_mean, sample_std, w = 1.0):\n",
    "    SSEs_sum = 0 \n",
    "    for i in range(len(target_mean)):\n",
    "        SSEs_sum +=  (np.log(target_mean[i])-np.log(sample_mean[i]))**2 \\\n",
    "                    + w * (np.log(target_std[i])-np.log(sample_std[i]))**2\n",
    "    return SSEs_sum\n",
    "\n",
    "\n",
    "@jit(nopython=True)\n",
    "def select_best_sample(population,target):\n",
    "    match = population[0]\n",
    "    sse_old = SSE(target,match)\n",
    "    n = 0\n",
    "    for i in range(1,len(population)):\n",
    "        match_new = population[i]\n",
    "        sse_new = SSE(target,match_new)\n",
    "        if sse_new < sse_old:\n",
    "            sse_old = sse_new\n",
    "            n = i\n",
    "            match = match_new.copy()     \n",
    "    return match, n\n",
    "\n",
    "@jit(nopython=True)\n",
    "def select_best_samples(population,targets):\n",
    "    m,n = targets.shape[0],targets.shape[1]\n",
    "    matches = np.zeros((m,n))\n",
    "    indec = np.zeros(m, dtype=np.int32)\n",
    "    for i in range(m):\n",
    "        target = targets[i]\n",
    "        match, key = select_best_sample(population,target)\n",
    "        indec[i] = key\n",
    "        matches[i] = match\n",
    "    return matches, indec \n",
    "\n",
    "\n",
    "@jit(nopython=True)\n",
    "def greedy_optimization(population, samples, target_mean, target_std):\n",
    "    match, indec = select_best_samples(population, samples)\n",
    "    sample_mean, sample_std = suite_statistics(match)\n",
    "    SSE_old = SSEs(target_mean, target_std, sample_mean, sample_std)\n",
    "    m,n = match.shape[0], population.shape[0]\n",
    "    match_new = match.copy()\n",
    "    indec_new = indec.copy()\n",
    "    for i in range(m):\n",
    "        for j in range(n):            \n",
    "            match_new[i] = population[j]\n",
    "            indec_new[i] = j\n",
    "            sample_mean, sample_std = suite_statistics(match_new)\n",
    "            SSE_new = SSEs(target_mean, target_std, sample_mean, sample_std)\n",
    "            if SSE_new < SSE_old:\n",
    "                match = match_new.copy()\n",
    "                SSE_old = SSE_new\n",
    "                indec = indec_new.copy()\n",
    "    return match, indec        \n",
    "    \n",
    "            \n",
    "@jit(nopython =True)\n",
    "def mean(data):\n",
    "    sum = 0 \n",
    "    for i in range(len(data)):\n",
    "        sum += data[i]\n",
    "    return sum/len(data)\n",
    "\n",
    "@jit(nopython=True)\n",
    "def deviation(data):\n",
    "    sum = 0\n",
    "    for i in range(len(data)):\n",
    "        sum += (data[i]-mean(data))**2\n",
    "    return np.sqrt(sum/(len(data)))\n",
    "\n",
    "@jit(nopython=True)\n",
    "def suite_statistics(data):\n",
    "    trans_data = data.transpose()\n",
    "    m,n = trans_data.shape[0], trans_data.shape[1]\n",
    "    mean_row = np.zeros(m)\n",
    "    std_row = np.zeros(m)\n",
    "    for i in range(m):\n",
    "        data_row = np.zeros(n)\n",
    "        for j in range(n):\n",
    "            data_row[j] = trans_data[i,j]\n",
    "        mean_row[i] = np.exp(np.mean(np.log(data_row)))\n",
    "        std_row[i] = np.exp(np.std(np.log(data_row)))\n",
    "    return mean_row, std_row\n",
    "\n",
    "\n",
    "def target(T):\n",
    "    if T <= 0.1:\n",
    "        return 1+15*T\n",
    "    elif T >= 0.1 and T <= 0.67:\n",
    "        return 2.5\n",
    "    elif T >= 0.67 and T <= 4.0:\n",
    "        return 1.67/T\n",
    "    "
   ]
  },
  {
   "cell_type": "code",
   "execution_count": 22,
   "metadata": {},
   "outputs": [
    {
     "data": {
      "text/plain": [
       "array([[1.52395e-01, 1.56035e-01, 1.57727e-01, ..., 5.86000e-04,\n",
       "        5.19000e-04, 4.66000e-04],\n",
       "       [4.75000e-02, 4.86000e-02, 4.92000e-02, ..., 1.90000e-05,\n",
       "        1.52000e-05, 1.43000e-05],\n",
       "       [4.36000e-02, 4.39000e-02, 4.40000e-02, ..., 1.53000e-04,\n",
       "        1.37000e-04, 1.24000e-04],\n",
       "       ...,\n",
       "       [1.80320e-01, 2.06300e-01, 2.36459e-01, ..., 3.70000e-03,\n",
       "        3.30000e-03, 2.83000e-03],\n",
       "       [5.66000e-02, 5.71000e-02, 5.73000e-02, ..., 5.97000e-04,\n",
       "        5.09000e-04, 5.06000e-04],\n",
       "       [4.24000e-02, 4.31000e-02, 4.34000e-02, ..., 4.06000e-04,\n",
       "        3.60000e-04, 3.30000e-04]])"
      ]
     },
     "execution_count": 22,
     "metadata": {},
     "output_type": "execute_result"
    }
   ],
   "source": [
    "from scipy.io import loadmat\n",
    "path = \"C:\\\\Users\\\\swopnil\\\\Downloads\\\\rec_selection_meta_data\\\\rec_selection_meta_data\"\n",
    "data = loadmat(path)\n",
    "data[\"Periods\"][0][:90]\n",
    "data['Sa_1']"
   ]
  },
  {
   "cell_type": "markdown",
   "metadata": {},
   "source": [
    "# Randomly Distributed Standard Deviations and Target Response Spectrum"
   ]
  },
  {
   "cell_type": "code",
   "execution_count": 5,
   "metadata": {},
   "outputs": [],
   "source": [
    "from scipy.io import loadmat\n",
    "path = \"C:\\\\Users\\\\admin\\\\Downloads\\\\CS_Selection-master\\\\CS_Selection-master\\\\Databases\\\\NGA_W2_meta_data\"\n",
    "data = loadmat(path)"
   ]
  },
  {
   "cell_type": "code",
   "execution_count": 160,
   "metadata": {},
   "outputs": [],
   "source": [
    "T = data[\"Periods\"][0][:90]\n",
    "\n",
    "path2 = \"D:\\\\Works\\\\Working Papers\\\\UHS.txt\"\n",
    "data2 = np.genfromtxt(path2)\n",
    "T2,sa2 = data2[:,0],data2[:,1]\n",
    "\n",
    "#T2 = np.array([0.01,0.05,0.1,0.5,1.,1.5,2.,2.5,3.])\n",
    "#sa2 = np.array([0.55958,0.70106,1.12320,1.27170,0.65845,0.40510,0.24732,0.18413,0.13622])\n",
    "sa2_smooth = np.interp(T,T2,sa2)\n",
    "\n",
    "sa_t = np.array([0.05*target(Ti) for Ti in T])\n",
    "std = np.random.lognormal(size = 10000)\n",
    "std_filtered = [stdi for stdi in std if stdi > 0.1 and stdi < 1]\n",
    "indices = np.random.randint(0,len(std_filtered),len(T))\n",
    "\n",
    "std_sample = np.zeros(len(T))\n",
    "for i in range(len(indices)):\n",
    "    std_sample[i] = std_filtered[indices[i]]\n",
    "\n",
    "#std_final = np.sort(std_sample)[::-1]\n",
    "std_final = np.sort(std_sample)\n",
    "std_final = np.sort(np.random.uniform(0.1,0.4,97))[::-1]\n",
    "\n",
    "#std_final = np.random.lognormal(size=len(T))\n",
    "#plt.plot(T,sa_t)\n",
    "plt.plot(T,sa2_smooth)\n",
    "plt.show()\n",
    "\n",
    "\n",
    "#std_final\n"
   ]
  },
  {
   "cell_type": "markdown",
   "metadata": {},
   "source": [
    "# Best simulated response_spectra"
   ]
  },
  {
   "cell_type": "code",
   "execution_count": 94,
   "metadata": {},
   "outputs": [],
   "source": [
    "plt.rcParams[\"figure.figsize\"] = (6.5,4)\n",
    "#sim = suite_response_spectra(T,sa_t,std_final,20)\n",
    "#sim = best_suite(T,sa_t,std_final,30,5)\n",
    "sim = best_suite(T,sa2_smooth,std_final,150,5)\n",
    "for i in range(len(sim)):\n",
    "    plt.plot(T,sim[i],\"grey\",linewidth=0.8)\n",
    "#plt.plot(T,sa_t,\"black\",linewidth=2.0,label=\"Target response specturm (IS 1893 soft soil)\")\n",
    "plt.plot(T,sa2_smooth,\"black\",linewidth=2.0,label=\"Target response specturm (Ktm 475 yrs)\")\n",
    "plt.plot(T,sim[2], \"grey\", linewidth=0.8, label=\"Simulated response spectra\")\n",
    "plt.plot(T,np.exp(np.mean(np.log(sim),axis=0)),\"r--\",label = \"Simulated mean\",linewidth=1.5)\n",
    "plt.legend()\n",
    "plt.xlabel(\"Period (sec)\",fontsize = 11)\n",
    "plt.ylabel(\"pSa (g)\", fontsize = 11)\n",
    "plt.show()\n",
    "\n",
    "\n"
   ]
  },
  {
   "cell_type": "markdown",
   "metadata": {},
   "source": [
    "# Writing to files"
   ]
  },
  {
   "cell_type": "code",
   "execution_count": 8,
   "metadata": {},
   "outputs": [],
   "source": []
  },
  {
   "cell_type": "code",
   "execution_count": 95,
   "metadata": {},
   "outputs": [],
   "source": [
    "#len(data[\"Sa_RotD50\"])\n",
    "population = np.zeros((len(data[\"Sa_1\"]),90))\n",
    "for i in range(len(population)):\n",
    "    population[i] = data[\"Sa_1\"][i][:90]\n",
    "\n"
   ]
  },
  {
   "cell_type": "code",
   "execution_count": 97,
   "metadata": {},
   "outputs": [],
   "source": [
    "matches,indices = select_best_samples(population,sim)\n",
    "#matches, indices = greedy_optimization(population, sim, sa_t, std_final)"
   ]
  },
  {
   "cell_type": "code",
   "execution_count": 27,
   "metadata": {},
   "outputs": [],
   "source": [
    "#import graphviz\n",
    "#from dask import delayed\n",
    "#greedy = delayed(greedy_optimization)\n",
    "#matches, indices = greedy(population, sim, sa_t, std_final).compute()\n",
    "\n"
   ]
  },
  {
   "cell_type": "code",
   "execution_count": 98,
   "metadata": {},
   "outputs": [
    {
     "name": "stdout",
     "output_type": "stream",
     "text": [
      "Using matplotlib backend: Qt5Agg\n"
     ]
    }
   ],
   "source": [
    "import matplotlib\n",
    "%matplotlib\n",
    "from matplotlib.pyplot import rcParams \n",
    "label_size = 10\n",
    "rcParams['figure.figsize'] = 6,4\n",
    "rcParams['xtick.labelsize'] = label_size\n",
    "rcParams['ytick.labelsize'] = label_size\n",
    "rcParams['legend.fontsize'] = label_size\n",
    "rcParams['axes.labelsize'] = label_size\n",
    "rcParams['font.family'] = 'Liberation Serif'\n",
    "\n",
    "ax = plt.subplot(111)\n",
    "for values in matches:\n",
    "    ax.plot(T,values,color = \"b\",linewidth=1)\n",
    "ax.plot(T,sa2_smooth,\"black\",linewidth=1.5,color = \"black\", label=\"10% probablity of exceedance in 50 years\")\n",
    "#plt.plot(T,sa_t,\"black\",linewidth=2.0,label=\"Ktm 475 yrs\")\n",
    "ax.plot(T,matches[9],linewidth=1,color = \"b\", label = \"NGA West database\")\n",
    "ax.plot(T,np.mean(matches,axis=0),linestyle='--',color = \"gray\",linewidth=2, label = \"NGA West mean\")\n",
    "ax.set_xlabel(\"Period [secs]\",fontweight=\"bold\")\n",
    "ax.set_ylabel(\"Sa [g]\",fontweight=\"bold\")\n",
    "ax.legend()\n",
    "ax.spines['right'].set_visible(False)\n",
    "ax.spines['top'].set_visible(False)\n",
    "\n",
    "plt.show()\n",
    "\n"
   ]
  },
  {
   "cell_type": "markdown",
   "metadata": {},
   "source": [
    "# Filter out ground motions that are repeated "
   ]
  },
  {
   "cell_type": "code",
   "execution_count": 103,
   "metadata": {},
   "outputs": [
    {
     "data": {
      "text/plain": [
       "962"
      ]
     },
     "execution_count": 103,
     "metadata": {},
     "output_type": "execute_result"
    }
   ],
   "source": [
    "indices\n",
    "index = []\n",
    "index.append(indices[0])\n",
    "for values in indices:\n",
    "    if values not in index:\n",
    "        index.append(values)\n"
   ]
  },
  {
   "cell_type": "code",
   "execution_count": 111,
   "metadata": {},
   "outputs": [
    {
     "data": {
      "text/plain": [
       "[1595,\n",
       " 726,\n",
       " 1548,\n",
       " 810,\n",
       " 1506,\n",
       " 406,\n",
       " 766,\n",
       " 1632,\n",
       " 179,\n",
       " 962,\n",
       " 567,\n",
       " 528,\n",
       " 450,\n",
       " 1084,\n",
       " 557,\n",
       " 1511,\n",
       " 1076,\n",
       " 951,\n",
       " 539]"
      ]
     },
     "execution_count": 111,
     "metadata": {},
     "output_type": "execute_result"
    }
   ],
   "source": [
    "index"
   ]
  },
  {
   "cell_type": "code",
   "execution_count": 167,
   "metadata": {},
   "outputs": [
    {
     "data": {
      "text/plain": [
       "[<matplotlib.lines.Line2D at 0x31f3fc0a58>]"
      ]
     },
     "execution_count": 167,
     "metadata": {},
     "output_type": "execute_result"
    }
   ],
   "source": [
    "import pandas as pd\n",
    "datas3 = np.zeros((len(index),len(T)))\n",
    "for i in range(len(index)):\n",
    "    datas3[i] = data[\"Sa_1\"][index[i]][:90]\n",
    "    \n",
    "datas4 = np.transpose(datas3)  \n",
    "df = pd.DataFrame(datas4, columns=[values for values in index])\n",
    "df['mean'] = df.mean(axis=1)\n",
    "df1 = pd.DataFrame(T, columns=['T'])\n",
    "#df1 = df1.append(df)\n",
    "df1 = df1.join(df)\n",
    "df1 = df1.join(pd.DataFrame(sa2_smooth, columns=['UHS']))\n",
    "\n",
    "plt.plot(df1.iloc[:,0],df1.iloc[:,1:], linewidth =0.5, color='g')\n",
    "plt.plot(df1.iloc[:,0],df1['mean'],linewidth=4,ls='--')\n",
    "plt.plot(df1.iloc[:,0],df1['UHS'], linewidth=4,ls='-.')\n",
    "#df1.to_clipboard(sep=',', index=False)\n"
   ]
  },
  {
   "cell_type": "code",
   "execution_count": 110,
   "metadata": {},
   "outputs": [
    {
     "data": {
      "text/plain": [
       "array([[0.969834, 1.02896 , 1.05483 , ..., 0.0866  , 0.0828  , 0.0806  ],\n",
       "       [0.693391, 0.689299, 0.698131, ..., 0.0336  , 0.0302  , 0.0258  ],\n",
       "       [1.01414 , 1.07089 , 1.09542 , ..., 0.0959  , 0.103801, 0.101418],\n",
       "       ...,\n",
       "       [0.899902, 0.906361, 0.949129, ..., 0.0765  , 0.0644  , 0.0562  ],\n",
       "       [0.628882, 0.618089, 0.627922, ..., 0.0394  , 0.0363  , 0.033   ],\n",
       "       [0.493067, 0.50775 , 0.499109, ..., 0.026   , 0.0235  , 0.0213  ]])"
      ]
     },
     "execution_count": 110,
     "metadata": {},
     "output_type": "execute_result"
    }
   ],
   "source": [
    "np.transpose(datas3)\n"
   ]
  },
  {
   "cell_type": "code",
   "execution_count": 41,
   "metadata": {},
   "outputs": [],
   "source": [
    "T2 = np.array([0.01,0.1,0.2,0.3,0.5,1.0,2.0,3.,4.])\n",
    "sa2 = np.array([0.547,1.672,1.698,1.446,0.903,0.438,0.18,0.103,0.06])\n",
    "sa2_smooth = np.interp(T,T2,sa2)\n",
    "plt.plot(T2,sa2,T,sa2_smooth,'--')\n",
    "plt.show()"
   ]
  },
  {
   "cell_type": "code",
   "execution_count": 89,
   "metadata": {},
   "outputs": [
    {
     "data": {
      "text/plain": [
       "array([ 726, 1595, 1506, 1076, 1595,  179, 1079, 1595, 1511, 1548, 1595,\n",
       "        406,  406, 1632, 1548, 1548, 1632, 1595,  726,  406,  951, 1632,\n",
       "       1548, 1595,  406, 1632,  450, 1548, 1595, 1632,  766,  726, 1595,\n",
       "       1595,  406, 1595,  726,  406, 1595, 1595, 1632, 1548, 1548, 1595,\n",
       "        726,  528, 1595, 1548, 1595, 1595,  726,  528, 1506, 1548, 1632,\n",
       "       1595,  751, 1595, 1548, 1595, 1548, 1548, 1595, 1632,  810,  179,\n",
       "       1548, 1548, 1511,  406,  567, 1595, 1595, 1595, 1632,  726,  539,\n",
       "       1595, 1595,  406,  567,  450,  406,  179, 1084, 1511, 1076,  726,\n",
       "        528, 1595, 1595, 1595, 1548, 1595, 1548,  179, 1548, 1511,  726,\n",
       "       1548])"
      ]
     },
     "execution_count": 89,
     "metadata": {},
     "output_type": "execute_result"
    }
   ],
   "source": [
    "indices"
   ]
  },
  {
   "cell_type": "code",
   "execution_count": 52,
   "metadata": {},
   "outputs": [],
   "source": [
    "\n",
    "\n"
   ]
  },
  {
   "cell_type": "code",
   "execution_count": 78,
   "metadata": {},
   "outputs": [],
   "source": [
    "\n",
    "\n"
   ]
  },
  {
   "cell_type": "code",
   "execution_count": 4,
   "metadata": {},
   "outputs": [],
   "source": [
    "\n",
    "    "
   ]
  },
  {
   "cell_type": "code",
   "execution_count": null,
   "metadata": {},
   "outputs": [],
   "source": []
  },
  {
   "cell_type": "code",
   "execution_count": null,
   "metadata": {},
   "outputs": [],
   "source": []
  },
  {
   "cell_type": "code",
   "execution_count": null,
   "metadata": {},
   "outputs": [],
   "source": []
  }
 ],
 "metadata": {
  "kernelspec": {
   "display_name": "Python 3",
   "language": "python",
   "name": "python3"
  },
  "language_info": {
   "codemirror_mode": {
    "name": "ipython",
    "version": 3
   },
   "file_extension": ".py",
   "mimetype": "text/x-python",
   "name": "python",
   "nbconvert_exporter": "python",
   "pygments_lexer": "ipython3",
   "version": "3.7.3"
  }
 },
 "nbformat": 4,
 "nbformat_minor": 2
}
